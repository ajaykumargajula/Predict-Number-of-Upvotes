{
 "cells": [
  {
   "cell_type": "code",
   "execution_count": 1,
   "metadata": {},
   "outputs": [],
   "source": [
    "import pandas as pd\n",
    "\n",
    "import numpy as np\n",
    "import matplotlib.pyplot as plt\n",
    "import seaborn as sns\n",
    "from sklearn.model_selection import KFold,cross_val_score,StratifiedKFold,GridSearchCV,RandomizedSearchCV\n",
    "from sklearn.metrics import mean_squared_error,r2_score\n",
    "from sklearn.preprocessing import OneHotEncoder,StandardScaler\n",
    "from sklearn.model_selection import train_test_split\n",
    "import statsmodels.api as sm\n",
    "from statsmodels.graphics.gofplots import ProbPlot\n",
    "plt.style.use(\"seaborn\")\n",
    "import warnings\n",
    "\n",
    "warnings.filterwarnings(\"ignore\")"
   ]
  },
  {
   "cell_type": "code",
   "execution_count": 2,
   "metadata": {},
   "outputs": [],
   "source": [
    "train_data=pd.read_csv(\"train.csv\")\n",
    "\n",
    "train_raw=train_data\n"
   ]
  },
  {
   "cell_type": "code",
   "execution_count": 32,
   "metadata": {},
   "outputs": [],
   "source": [
    "\n",
    "test_data=pd.read_csv(\"test.csv\")\n",
    "test_raw=test_data"
   ]
  },
  {
   "cell_type": "markdown",
   "metadata": {},
   "source": [
    "\n",
    "|Variable|Definition|\n",
    "|---|---|\n",
    "|ID|Question ID|\n",
    "|Tag|Anonymised tags representing question category|\n",
    "|Reputation|score of question author|\n",
    "|Answers|Number of times question has been answered|\n",
    "|Username|Anonymised user id of question author|\n",
    "|Views|Number of times question has been viewed|\n",
    "|Upvotes|(Target) Number of upvotes for the question|"
   ]
  },
  {
   "cell_type": "code",
   "execution_count": 4,
   "metadata": {},
   "outputs": [
    {
     "name": "stdout",
     "output_type": "stream",
     "text": [
      "Observations: 330045\n",
      "Features:7\n",
      "\n",
      "\n",
      "       ID Tag  Reputation  Answers  Username  Views  Upvotes\n",
      "0   52664   a        3942        2    155623   7855       42\n",
      "1  327662   a       26046       12     21781  55801     1175\n",
      "2  468453   c        1358        4     56177   8067       60\n",
      "3   96996   a         264        3    168793  27064        9\n",
      "4  131465   c        4271        4    112223  13986       83\n"
     ]
    }
   ],
   "source": [
    "train_data.head()\n",
    "print(\"Observations: {}\\nFeatures:{}\\n\\n\".format(train_data.shape[0],train_data.shape[1]))\n",
    "print(train_data.head())"
   ]
  },
  {
   "cell_type": "code",
   "execution_count": 5,
   "metadata": {},
   "outputs": [
    {
     "name": "stdout",
     "output_type": "stream",
     "text": [
      "<class 'pandas.core.frame.DataFrame'>\n",
      "RangeIndex: 330045 entries, 0 to 330044\n",
      "Data columns (total 7 columns):\n",
      "ID            330045 non-null int64\n",
      "Tag           330045 non-null object\n",
      "Reputation    330045 non-null int64\n",
      "Answers       330045 non-null int64\n",
      "Username      330045 non-null int64\n",
      "Views         330045 non-null int64\n",
      "Upvotes       330045 non-null int64\n",
      "dtypes: int64(6), object(1)\n",
      "memory usage: 17.6+ MB\n"
     ]
    }
   ],
   "source": [
    "train_data.info()"
   ]
  },
  {
   "cell_type": "markdown",
   "metadata": {},
   "source": [
    "#### Target variable= Upvotes"
   ]
  },
  {
   "cell_type": "markdown",
   "metadata": {},
   "source": [
    "#### Independent Variables"
   ]
  },
  {
   "cell_type": "code",
   "execution_count": 6,
   "metadata": {},
   "outputs": [
    {
     "name": "stdout",
     "output_type": "stream",
     "text": [
      "Independent Variables: ['ID', 'Tag', 'Reputation', 'Answers', 'Username', 'Views']\n"
     ]
    }
   ],
   "source": [
    "ind_var=list(train_data.drop([\"Upvotes\"],axis=1).columns)\n",
    "print(\"Independent Variables: {}\".format(ind_var))"
   ]
  },
  {
   "cell_type": "code",
   "execution_count": 7,
   "metadata": {},
   "outputs": [
    {
     "data": {
      "text/html": [
       "<div>\n",
       "<style scoped>\n",
       "    .dataframe tbody tr th:only-of-type {\n",
       "        vertical-align: middle;\n",
       "    }\n",
       "\n",
       "    .dataframe tbody tr th {\n",
       "        vertical-align: top;\n",
       "    }\n",
       "\n",
       "    .dataframe thead th {\n",
       "        text-align: right;\n",
       "    }\n",
       "</style>\n",
       "<table border=\"1\" class=\"dataframe\">\n",
       "  <thead>\n",
       "    <tr style=\"text-align: right;\">\n",
       "      <th></th>\n",
       "      <th>ID</th>\n",
       "      <th>Reputation</th>\n",
       "      <th>Answers</th>\n",
       "      <th>Username</th>\n",
       "      <th>Views</th>\n",
       "      <th>Upvotes</th>\n",
       "    </tr>\n",
       "  </thead>\n",
       "  <tbody>\n",
       "    <tr>\n",
       "      <th>count</th>\n",
       "      <td>330045.000000</td>\n",
       "      <td>3.300450e+05</td>\n",
       "      <td>330045.000000</td>\n",
       "      <td>330045.000000</td>\n",
       "      <td>3.300450e+05</td>\n",
       "      <td>330045.000000</td>\n",
       "    </tr>\n",
       "    <tr>\n",
       "      <th>mean</th>\n",
       "      <td>235748.682789</td>\n",
       "      <td>7.773147e+03</td>\n",
       "      <td>3.917672</td>\n",
       "      <td>81442.888803</td>\n",
       "      <td>2.964507e+04</td>\n",
       "      <td>337.505358</td>\n",
       "    </tr>\n",
       "    <tr>\n",
       "      <th>std</th>\n",
       "      <td>136039.418471</td>\n",
       "      <td>2.706141e+04</td>\n",
       "      <td>3.579515</td>\n",
       "      <td>49215.100730</td>\n",
       "      <td>8.095646e+04</td>\n",
       "      <td>3592.441135</td>\n",
       "    </tr>\n",
       "    <tr>\n",
       "      <th>min</th>\n",
       "      <td>1.000000</td>\n",
       "      <td>0.000000e+00</td>\n",
       "      <td>0.000000</td>\n",
       "      <td>0.000000</td>\n",
       "      <td>9.000000e+00</td>\n",
       "      <td>0.000000</td>\n",
       "    </tr>\n",
       "    <tr>\n",
       "      <th>25%</th>\n",
       "      <td>117909.000000</td>\n",
       "      <td>2.820000e+02</td>\n",
       "      <td>2.000000</td>\n",
       "      <td>39808.000000</td>\n",
       "      <td>2.594000e+03</td>\n",
       "      <td>8.000000</td>\n",
       "    </tr>\n",
       "    <tr>\n",
       "      <th>50%</th>\n",
       "      <td>235699.000000</td>\n",
       "      <td>1.236000e+03</td>\n",
       "      <td>3.000000</td>\n",
       "      <td>79010.000000</td>\n",
       "      <td>8.954000e+03</td>\n",
       "      <td>28.000000</td>\n",
       "    </tr>\n",
       "    <tr>\n",
       "      <th>75%</th>\n",
       "      <td>353620.000000</td>\n",
       "      <td>5.118000e+03</td>\n",
       "      <td>5.000000</td>\n",
       "      <td>122559.000000</td>\n",
       "      <td>2.687000e+04</td>\n",
       "      <td>107.000000</td>\n",
       "    </tr>\n",
       "    <tr>\n",
       "      <th>max</th>\n",
       "      <td>471493.000000</td>\n",
       "      <td>1.042428e+06</td>\n",
       "      <td>76.000000</td>\n",
       "      <td>175738.000000</td>\n",
       "      <td>5.231058e+06</td>\n",
       "      <td>615278.000000</td>\n",
       "    </tr>\n",
       "  </tbody>\n",
       "</table>\n",
       "</div>"
      ],
      "text/plain": [
       "                  ID    Reputation        Answers       Username  \\\n",
       "count  330045.000000  3.300450e+05  330045.000000  330045.000000   \n",
       "mean   235748.682789  7.773147e+03       3.917672   81442.888803   \n",
       "std    136039.418471  2.706141e+04       3.579515   49215.100730   \n",
       "min         1.000000  0.000000e+00       0.000000       0.000000   \n",
       "25%    117909.000000  2.820000e+02       2.000000   39808.000000   \n",
       "50%    235699.000000  1.236000e+03       3.000000   79010.000000   \n",
       "75%    353620.000000  5.118000e+03       5.000000  122559.000000   \n",
       "max    471493.000000  1.042428e+06      76.000000  175738.000000   \n",
       "\n",
       "              Views        Upvotes  \n",
       "count  3.300450e+05  330045.000000  \n",
       "mean   2.964507e+04     337.505358  \n",
       "std    8.095646e+04    3592.441135  \n",
       "min    9.000000e+00       0.000000  \n",
       "25%    2.594000e+03       8.000000  \n",
       "50%    8.954000e+03      28.000000  \n",
       "75%    2.687000e+04     107.000000  \n",
       "max    5.231058e+06  615278.000000  "
      ]
     },
     "execution_count": 7,
     "metadata": {},
     "output_type": "execute_result"
    }
   ],
   "source": [
    "train_data.describe()"
   ]
  },
  {
   "cell_type": "code",
   "execution_count": 8,
   "metadata": {},
   "outputs": [
    {
     "data": {
      "text/plain": [
       "330045"
      ]
     },
     "execution_count": 8,
     "metadata": {},
     "output_type": "execute_result"
    }
   ],
   "source": [
    "train_data[\"ID\"].nunique()"
   ]
  },
  {
   "cell_type": "markdown",
   "metadata": {},
   "source": [
    "ID is a unique Variable and it can be removed from Analysis"
   ]
  },
  {
   "cell_type": "code",
   "execution_count": 9,
   "metadata": {},
   "outputs": [
    {
     "data": {
      "text/plain": [
       "141802"
      ]
     },
     "execution_count": 9,
     "metadata": {},
     "output_type": "execute_result"
    }
   ],
   "source": [
    "train_data[\"Username\"].nunique()"
   ]
  },
  {
   "cell_type": "markdown",
   "metadata": {},
   "source": [
    "Username is Anonymised user id of question author and it can be removed from Analysis\n",
    "\n"
   ]
  },
  {
   "cell_type": "code",
   "execution_count": 10,
   "metadata": {},
   "outputs": [
    {
     "data": {
      "text/html": [
       "<div>\n",
       "<style scoped>\n",
       "    .dataframe tbody tr th:only-of-type {\n",
       "        vertical-align: middle;\n",
       "    }\n",
       "\n",
       "    .dataframe tbody tr th {\n",
       "        vertical-align: top;\n",
       "    }\n",
       "\n",
       "    .dataframe thead th {\n",
       "        text-align: right;\n",
       "    }\n",
       "</style>\n",
       "<table border=\"1\" class=\"dataframe\">\n",
       "  <thead>\n",
       "    <tr style=\"text-align: right;\">\n",
       "      <th></th>\n",
       "      <th>Tag</th>\n",
       "    </tr>\n",
       "  </thead>\n",
       "  <tbody>\n",
       "    <tr>\n",
       "      <th>count</th>\n",
       "      <td>330045</td>\n",
       "    </tr>\n",
       "    <tr>\n",
       "      <th>unique</th>\n",
       "      <td>10</td>\n",
       "    </tr>\n",
       "    <tr>\n",
       "      <th>top</th>\n",
       "      <td>c</td>\n",
       "    </tr>\n",
       "    <tr>\n",
       "      <th>freq</th>\n",
       "      <td>72458</td>\n",
       "    </tr>\n",
       "  </tbody>\n",
       "</table>\n",
       "</div>"
      ],
      "text/plain": [
       "           Tag\n",
       "count   330045\n",
       "unique      10\n",
       "top          c\n",
       "freq     72458"
      ]
     },
     "execution_count": 10,
     "metadata": {},
     "output_type": "execute_result"
    }
   ],
   "source": [
    "train_data.describe(include=[\"O\"])"
   ]
  },
  {
   "cell_type": "code",
   "execution_count": 11,
   "metadata": {},
   "outputs": [],
   "source": [
    "train_data.drop([\"ID\",\"Username\"],axis=1,inplace=True)"
   ]
  },
  {
   "cell_type": "markdown",
   "metadata": {},
   "source": [
    "#### Correlation Check"
   ]
  },
  {
   "cell_type": "code",
   "execution_count": 12,
   "metadata": {},
   "outputs": [
    {
     "data": {
      "image/png": "[encoded data removed]",
      "text/plain": [
       "<Figure size 432x288 with 2 Axes>"
      ]
     },
     "metadata": {
      "needs_background": "light"
     },
     "output_type": "display_data"
    }
   ],
   "source": [
    "sns.heatmap(train_data.corr(),annot=True,cmap=\"viridis\",vmin=-0.1,vmax=1.0,linewidths=1);"
   ]
  },
  {
   "cell_type": "code",
   "execution_count": 13,
   "metadata": {},
   "outputs": [
    {
     "data": {
      "text/plain": [
       "Views         0.437336\n",
       "Reputation    0.266710\n",
       "Answers       0.202033\n",
       "Name: Upvotes, dtype: float64"
      ]
     },
     "execution_count": 13,
     "metadata": {},
     "output_type": "execute_result"
    }
   ],
   "source": [
    "train_data.corr()[\"Upvotes\"][:-1].sort_values(ascending=False)"
   ]
  },
  {
   "cell_type": "code",
   "execution_count": 14,
   "metadata": {},
   "outputs": [
    {
     "data": {
      "text/html": [
       "<div>\n",
       "<style scoped>\n",
       "    .dataframe tbody tr th:only-of-type {\n",
       "        vertical-align: middle;\n",
       "    }\n",
       "\n",
       "    .dataframe tbody tr th {\n",
       "        vertical-align: top;\n",
       "    }\n",
       "\n",
       "    .dataframe thead th {\n",
       "        text-align: right;\n",
       "    }\n",
       "</style>\n",
       "<table border=\"1\" class=\"dataframe\">\n",
       "  <thead>\n",
       "    <tr style=\"text-align: right;\">\n",
       "      <th></th>\n",
       "      <th>Skewness</th>\n",
       "      <th>Kurtosis</th>\n",
       "    </tr>\n",
       "  </thead>\n",
       "  <tbody>\n",
       "    <tr>\n",
       "      <th>Reputation</th>\n",
       "      <td>11.230027</td>\n",
       "      <td>198.464137</td>\n",
       "    </tr>\n",
       "    <tr>\n",
       "      <th>Answers</th>\n",
       "      <td>3.380169</td>\n",
       "      <td>21.227768</td>\n",
       "    </tr>\n",
       "    <tr>\n",
       "      <th>Views</th>\n",
       "      <td>14.370704</td>\n",
       "      <td>425.093309</td>\n",
       "    </tr>\n",
       "    <tr>\n",
       "      <th>Upvotes</th>\n",
       "      <td>74.249689</td>\n",
       "      <td>8919.792659</td>\n",
       "    </tr>\n",
       "  </tbody>\n",
       "</table>\n",
       "</div>"
      ],
      "text/plain": [
       "             Skewness     Kurtosis\n",
       "Reputation  11.230027   198.464137\n",
       "Answers      3.380169    21.227768\n",
       "Views       14.370704   425.093309\n",
       "Upvotes     74.249689  8919.792659"
      ]
     },
     "execution_count": 14,
     "metadata": {},
     "output_type": "execute_result"
    }
   ],
   "source": [
    "pd.DataFrame({\"Skewness\":train_data.skew(),\"Kurtosis\":train_data.kurtosis()})"
   ]
  },
  {
   "cell_type": "markdown",
   "metadata": {},
   "source": [
    "    Skewness:\n",
    "     -0.5 to -0.5    = Data are fairly Symmetrical\n",
    "     -1 to -0.5      = Negatively Skewed\n",
    "      0.5 to 1       = Positively Skewed\n",
    "      less than -1   = Higly Negatively Skewed\n",
    "      greater than 1 = Higly Positively Skewed\n",
    "      \n",
    "Independent Variabes are Highly Positive Skewed"
   ]
  },
  {
   "cell_type": "markdown",
   "metadata": {},
   "source": [
    "#### Plot For numerical variables"
   ]
  },
  {
   "cell_type": "code",
   "execution_count": 15,
   "metadata": {},
   "outputs": [],
   "source": [
    "#sns.pairplot(train_data);"
   ]
  },
  {
   "cell_type": "code",
   "execution_count": 16,
   "metadata": {},
   "outputs": [
    {
     "data": {
      "image/png": "[encoded data removed]",
      "text/plain": [
       "<Figure size 432x288 with 1 Axes>"
      ]
     },
     "metadata": {
      "needs_background": "light"
     },
     "output_type": "display_data"
    }
   ],
   "source": [
    "sns.boxplot(train_data[\"Upvotes\"],orient=\"v\");"
   ]
  },
  {
   "cell_type": "code",
   "execution_count": 17,
   "metadata": {},
   "outputs": [
    {
     "data": {
      "image/png": "[encoded data removed]",
      "text/plain": [
       "<Figure size 432x288 with 1 Axes>"
      ]
     },
     "metadata": {
      "needs_background": "light"
     },
     "output_type": "display_data"
    }
   ],
   "source": [
    "\n",
    "sns.barplot(train_data[\"Tag\"],train_data[\"Upvotes\"]);"
   ]
  },
  {
   "cell_type": "markdown",
   "metadata": {},
   "source": [
    "#### Check for Missing values"
   ]
  },
  {
   "cell_type": "code",
   "execution_count": 18,
   "metadata": {},
   "outputs": [
    {
     "data": {
      "text/plain": [
       "Tag           0\n",
       "Reputation    0\n",
       "Answers       0\n",
       "Views         0\n",
       "Upvotes       0\n",
       "dtype: int64"
      ]
     },
     "execution_count": 18,
     "metadata": {},
     "output_type": "execute_result"
    }
   ],
   "source": [
    "train_data.isnull().sum()\n"
   ]
  },
  {
   "cell_type": "markdown",
   "metadata": {},
   "source": [
    "There are no Missing values"
   ]
  },
  {
   "cell_type": "markdown",
   "metadata": {},
   "source": [
    "#### Outlier Detection"
   ]
  },
  {
   "cell_type": "code",
   "execution_count": 19,
   "metadata": {},
   "outputs": [],
   "source": [
    "def Outlier_detection(train_data):\n",
    "    numerical_columns=list(train_data.select_dtypes(\"int64\",\"float64\").columns)\n",
    "    index=[\"Total Observations\",\"Lower Limit\",\"Upper Limit\",\"IQR\",\"Number of Outliers\",\"No. of Not outlers\",\"Outlier Percentage\"]\n",
    "    out_df=pd.DataFrame(index=numerical_columns,columns=index)\n",
    "    for col in numerical_columns:\n",
    "        Q1,Q3=np.percentile(train_data[col],[25,75])\n",
    "        IQR=Q3-Q1\n",
    "        lower_limit=Q1-(1.5*IQR)\n",
    "        upper_limit=Q3+(1.5*IQR)\n",
    "        outlier=[]\n",
    "        No_Outliers=[]\n",
    "        for i in train_data[col]:\n",
    "            if (i<lower_limit) | (i>upper_limit):\n",
    "                outlier.append(i)\n",
    "        new_df=pd.DataFrame({\"Total Observations\":len(train_data[col]),\"Lower Limit\":lower_limit,\"Upper Limit\":upper_limit,\"IQR\":IQR,\"Number of Outliers\":len(outlier),\"No. of Not outlers\":len(train_data[col])-len(outlier),\"Outlier Percentage\":(len(outlier)/len(train_data[col]))*100},index=[col])\n",
    "        out_df.update(new_df)\n",
    "    return(out_df)"
   ]
  },
  {
   "cell_type": "code",
   "execution_count": 20,
   "metadata": {},
   "outputs": [
    {
     "data": {
      "text/html": [
       "<div>\n",
       "<style scoped>\n",
       "    .dataframe tbody tr th:only-of-type {\n",
       "        vertical-align: middle;\n",
       "    }\n",
       "\n",
       "    .dataframe tbody tr th {\n",
       "        vertical-align: top;\n",
       "    }\n",
       "\n",
       "    .dataframe thead th {\n",
       "        text-align: right;\n",
       "    }\n",
       "</style>\n",
       "<table border=\"1\" class=\"dataframe\">\n",
       "  <thead>\n",
       "    <tr style=\"text-align: right;\">\n",
       "      <th></th>\n",
       "      <th>Total Observations</th>\n",
       "      <th>Lower Limit</th>\n",
       "      <th>Upper Limit</th>\n",
       "      <th>IQR</th>\n",
       "      <th>Number of Outliers</th>\n",
       "      <th>No. of Not outlers</th>\n",
       "      <th>Outlier Percentage</th>\n",
       "    </tr>\n",
       "  </thead>\n",
       "  <tbody>\n",
       "    <tr>\n",
       "      <th>Reputation</th>\n",
       "      <td>330045</td>\n",
       "      <td>-6972</td>\n",
       "      <td>12372</td>\n",
       "      <td>4836</td>\n",
       "      <td>42864</td>\n",
       "      <td>287181</td>\n",
       "      <td>12.9873</td>\n",
       "    </tr>\n",
       "    <tr>\n",
       "      <th>Answers</th>\n",
       "      <td>330045</td>\n",
       "      <td>-2.5</td>\n",
       "      <td>9.5</td>\n",
       "      <td>3</td>\n",
       "      <td>19939</td>\n",
       "      <td>310106</td>\n",
       "      <td>6.0413</td>\n",
       "    </tr>\n",
       "    <tr>\n",
       "      <th>Views</th>\n",
       "      <td>330045</td>\n",
       "      <td>-33820</td>\n",
       "      <td>63284</td>\n",
       "      <td>24276</td>\n",
       "      <td>35961</td>\n",
       "      <td>294084</td>\n",
       "      <td>10.8958</td>\n",
       "    </tr>\n",
       "    <tr>\n",
       "      <th>Upvotes</th>\n",
       "      <td>330045</td>\n",
       "      <td>-140.5</td>\n",
       "      <td>255.5</td>\n",
       "      <td>99</td>\n",
       "      <td>46943</td>\n",
       "      <td>283102</td>\n",
       "      <td>14.2232</td>\n",
       "    </tr>\n",
       "  </tbody>\n",
       "</table>\n",
       "</div>"
      ],
      "text/plain": [
       "           Total Observations Lower Limit Upper Limit    IQR  \\\n",
       "Reputation             330045       -6972       12372   4836   \n",
       "Answers                330045        -2.5         9.5      3   \n",
       "Views                  330045      -33820       63284  24276   \n",
       "Upvotes                330045      -140.5       255.5     99   \n",
       "\n",
       "           Number of Outliers No. of Not outlers Outlier Percentage  \n",
       "Reputation              42864             287181            12.9873  \n",
       "Answers                 19939             310106             6.0413  \n",
       "Views                   35961             294084            10.8958  \n",
       "Upvotes                 46943             283102            14.2232  "
      ]
     },
     "execution_count": 20,
     "metadata": {},
     "output_type": "execute_result"
    }
   ],
   "source": [
    "Outlier_detection(train_data)"
   ]
  },
  {
   "cell_type": "markdown",
   "metadata": {},
   "source": [
    "#### Check for Multicollinearity"
   ]
  },
  {
   "cell_type": "code",
   "execution_count": 21,
   "metadata": {},
   "outputs": [],
   "source": [
    "import statsmodels.api as sm\n",
    "from statsmodels.stats.outliers_influence import variance_inflation_factor\n",
    "from patsy import dmatrices"
   ]
  },
  {
   "cell_type": "code",
   "execution_count": 22,
   "metadata": {},
   "outputs": [],
   "source": [
    "y, X = dmatrices(\"Upvotes ~ Reputation+Answers+Views\",data=train_data, return_type='dataframe')"
   ]
  },
  {
   "cell_type": "code",
   "execution_count": 23,
   "metadata": {},
   "outputs": [],
   "source": [
    "vif = pd.DataFrame()\n",
    "vif[\"VIF Factor\"] = [variance_inflation_factor(X.values, i) for i in range(X.shape[1])]\n",
    "vif[\"features\"] = X.columns"
   ]
  },
  {
   "cell_type": "code",
   "execution_count": 24,
   "metadata": {},
   "outputs": [
    {
     "data": {
      "text/html": [
       "<div>\n",
       "<style scoped>\n",
       "    .dataframe tbody tr th:only-of-type {\n",
       "        vertical-align: middle;\n",
       "    }\n",
       "\n",
       "    .dataframe tbody tr th {\n",
       "        vertical-align: top;\n",
       "    }\n",
       "\n",
       "    .dataframe thead th {\n",
       "        text-align: right;\n",
       "    }\n",
       "</style>\n",
       "<table border=\"1\" class=\"dataframe\">\n",
       "  <thead>\n",
       "    <tr style=\"text-align: right;\">\n",
       "      <th></th>\n",
       "      <th>VIF Factor</th>\n",
       "      <th>features</th>\n",
       "    </tr>\n",
       "  </thead>\n",
       "  <tbody>\n",
       "    <tr>\n",
       "      <th>0</th>\n",
       "      <td>2.3</td>\n",
       "      <td>Intercept</td>\n",
       "    </tr>\n",
       "    <tr>\n",
       "      <th>1</th>\n",
       "      <td>1.0</td>\n",
       "      <td>Reputation</td>\n",
       "    </tr>\n",
       "    <tr>\n",
       "      <th>2</th>\n",
       "      <td>1.3</td>\n",
       "      <td>Answers</td>\n",
       "    </tr>\n",
       "    <tr>\n",
       "      <th>3</th>\n",
       "      <td>1.3</td>\n",
       "      <td>Views</td>\n",
       "    </tr>\n",
       "  </tbody>\n",
       "</table>\n",
       "</div>"
      ],
      "text/plain": [
       "   VIF Factor    features\n",
       "0         2.3   Intercept\n",
       "1         1.0  Reputation\n",
       "2         1.3     Answers\n",
       "3         1.3       Views"
      ]
     },
     "execution_count": 24,
     "metadata": {},
     "output_type": "execute_result"
    }
   ],
   "source": [
    "vif.round(1)"
   ]
  },
  {
   "cell_type": "markdown",
   "metadata": {},
   "source": [
    "VIF greate than 5 indicate hingh Multicollinearity and there is no Multicollinearity between independent variables in our dataset"
   ]
  },
  {
   "cell_type": "markdown",
   "metadata": {},
   "source": [
    "#### Feature Encoding"
   ]
  },
  {
   "cell_type": "code",
   "execution_count": 25,
   "metadata": {},
   "outputs": [],
   "source": [
    "tag=pd.get_dummies(train_data[\"Tag\"],drop_first=True)\n",
    "numerical_columns=list(train_data.select_dtypes(\"int64\",\"float64\").columns)\n",
    "new_train=pd.concat([train_data[numerical_columns],tag],axis=1)"
   ]
  },
  {
   "cell_type": "markdown",
   "metadata": {},
   "source": [
    "#### Prepare Test Data"
   ]
  },
  {
   "cell_type": "code",
   "execution_count": 26,
   "metadata": {},
   "outputs": [],
   "source": [
    "test_data.drop([\"ID\",\"Username\"],axis=1,inplace=True)"
   ]
  },
  {
   "cell_type": "code",
   "execution_count": 27,
   "metadata": {},
   "outputs": [],
   "source": [
    "test_tag=pd.get_dummies(test_data[\"Tag\"],drop_first=True)\n",
    "numerical_columns=list(test_data.select_dtypes(\"int64\",\"float64\").columns)\n",
    "new_test=pd.concat([test_data[numerical_columns],test_tag],axis=1)"
   ]
  },
  {
   "cell_type": "markdown",
   "metadata": {},
   "source": [
    "#### Prepare X and Y"
   ]
  },
  {
   "cell_type": "code",
   "execution_count": 28,
   "metadata": {},
   "outputs": [],
   "source": [
    "x=new_train.drop([\"Upvotes\"],axis=1)\n",
    "y=new_train[\"Upvotes\"]"
   ]
  },
  {
   "cell_type": "markdown",
   "metadata": {},
   "source": [
    "#### Linear Regression\n",
    "Model is created for the linear relationship between dependent and independent variable and fits a strainght line closest to all data points reducing the error\n",
    "\n",
    "##### Pros\n",
    "* simple and low flexible model\n",
    "* Quick to compute and can be updated easily with new data\n",
    "* Relatively easy to understand and model interpretability\n",
    "\n",
    "##### Cons\n",
    "* cannot learn complex relationships\n",
    "* Prone to High Bias\n",
    "* Difficult to capture non-linear relationships (without first transforming data which can be complicated)"
   ]
  },
  {
   "cell_type": "code",
   "execution_count": 29,
   "metadata": {},
   "outputs": [],
   "source": [
    "from sklearn.linear_model import LinearRegression\n",
    "x_train,x_test,y_train,y_test= train_test_split(x,y,test_size=0.3,random_state=21)\n",
    "std_scaler=StandardScaler()\n",
    "x_train=std_scaler.fit_transform(x_train)\n",
    "x_test =std_scaler.fit_transform(x_test)\n",
    "\n",
    "lr=LinearRegression()\n",
    "lr.fit(x_train,y_train)\n",
    "\n",
    "pred=lr.predict(x_test)\n"
   ]
  },
  {
   "cell_type": "code",
   "execution_count": 30,
   "metadata": {},
   "outputs": [
    {
     "data": {
      "text/plain": [
       "3074.7854228934284"
      ]
     },
     "execution_count": 30,
     "metadata": {},
     "output_type": "execute_result"
    }
   ],
   "source": [
    "np.sqrt(mean_squared_error(pred,y_test))"
   ]
  },
  {
   "cell_type": "code",
   "execution_count": 33,
   "metadata": {},
   "outputs": [],
   "source": [
    "Test_evalu=pd.DataFrame(lr.predict(new_test))\n",
    "test_eval=pd.concat([test_raw[\"ID\"],Test_evalu],axis=1)\n",
    "test_eval.rename(columns={0:\"Upvotes\"},inplace=True)\n",
    "test_eval.to_csv(\"test_evaluation.csv\",index=False)"
   ]
  },
  {
   "cell_type": "markdown",
   "metadata": {},
   "source": [
    "RMSE for Test Evaluation: 3543"
   ]
  },
  {
   "cell_type": "code",
   "execution_count": 34,
   "metadata": {},
   "outputs": [],
   "source": [
    "# https://robert-alvarez.github.io/2018-06-04-diagnostic_plots/\n",
    "#https://zhiyzuo.github.io/Linear-Regression-Diagnostic-in-Python/"
   ]
  },
  {
   "cell_type": "markdown",
   "metadata": {},
   "source": [
    "#### Polynomial Regression"
   ]
  },
  {
   "cell_type": "code",
   "execution_count": 35,
   "metadata": {},
   "outputs": [
    {
     "data": {
      "text/plain": [
       "LassoLars(alpha=0.021, copy_X=True, eps=2.220446049250313e-16,\n",
       "          fit_intercept=True, fit_path=True, max_iter=200, normalize=True,\n",
       "          positive=False, precompute='auto', verbose=False)"
      ]
     },
     "execution_count": 35,
     "metadata": {},
     "output_type": "execute_result"
    }
   ],
   "source": [
    "from sklearn.preprocessing import PolynomialFeatures\n",
    "from sklearn import linear_model\n",
    "poly_reg=PolynomialFeatures(degree=4)\n",
    "x_poly=poly_reg.fit_transform(x_train)\n",
    "lin_reg_1 = linear_model.LassoLars(alpha=0.021,max_iter=200)\n",
    "lin_reg_1.fit(x_poly, y_train) \n",
    " "
   ]
  },
  {
   "cell_type": "code",
   "execution_count": 36,
   "metadata": {},
   "outputs": [
    {
     "name": "stdout",
     "output_type": "stream",
     "text": [
      "0.9166787651031887\n"
     ]
    }
   ],
   "source": [
    "pred=poly_reg.fit_transform(x_test) \n",
    "pred_val = lin_reg_1.predict(pred)\n",
    "\n",
    "print(r2_score(y_test, pred_val))"
   ]
  },
  {
   "cell_type": "code",
   "execution_count": 37,
   "metadata": {},
   "outputs": [],
   "source": [
    "test = std_scaler.fit_transform(new_test)\n",
    "\n",
    "Test_evalu=pd.DataFrame(lin_reg_1.predict(poly_reg.fit_transform(test)))\n",
    "test_eval=pd.concat([test_raw[\"ID\"],Test_evalu],axis=1)\n",
    "test_eval.rename(columns={0:\"Upvotes\"},inplace=True)\n",
    "test_eval.to_csv(\"test_evaluation.csv\",index=False)"
   ]
  },
  {
   "cell_type": "markdown",
   "metadata": {},
   "source": [
    "### Test Evaluation Score: 896.36"
   ]
  },
  {
   "cell_type": "markdown",
   "metadata": {},
   "source": [
    "#### LassoLars Regression Hyper Tuning"
   ]
  },
  {
   "cell_type": "code",
   "execution_count": 38,
   "metadata": {},
   "outputs": [
    {
     "name": "stdout",
     "output_type": "stream",
     "text": [
      "Best neg_mean_squared_error : -5504434.382260 using {'max_iter': 450, 'alpha': 0.06}\n"
     ]
    }
   ],
   "source": [
    "from sklearn.linear_model import Ridge,Lasso\n",
    "params_lasso={\"alpha\":(0,0.01,0.015,0.02,0.025,0.03,0.05,0.06,0.07),\"max_iter\":(100,150,200,250,300,450,500,600,700,800)}\n",
    "lasso_model=linear_model.LassoLars()\n",
    "\n",
    "xgrid=RandomizedSearchCV(lasso_model,param_distributions=params_lasso,scoring=\"neg_mean_squared_error\",n_jobs=-1,cv=5)\n",
    "\n",
    "xgrid.fit(x_poly,y_train)\n",
    "\n",
    "print(\"Best neg_mean_squared_error : %f using %s\" % (xgrid.best_score_,xgrid.best_params_))\n"
   ]
  },
  {
   "cell_type": "code",
   "execution_count": 39,
   "metadata": {},
   "outputs": [
    {
     "name": "stdout",
     "output_type": "stream",
     "text": [
      "0.9195953159787648\n"
     ]
    }
   ],
   "source": [
    "\n",
    "lin_reg_1 = linear_model.LassoLars(alpha=0.06,max_iter=450)\n",
    "lin_reg_1.fit(x_poly, y_train)\n",
    "pred=poly_reg.fit_transform(x_test) \n",
    "pred_val = lin_reg_1.predict(pred)\n",
    "\n",
    "print(r2_score(y_test, pred_val))\n"
   ]
  },
  {
   "cell_type": "code",
   "execution_count": 38,
   "metadata": {},
   "outputs": [],
   "source": [
    "test = std_scaler.fit_transform(new_test)\n",
    "\n",
    "Test_evalu=pd.DataFrame(lin_reg_1.predict(poly_reg.fit_transform(test)))\n",
    "test_eval=pd.concat([test_raw[\"ID\"],Test_evalu],axis=1)\n",
    "test_eval.rename(columns={0:\"Upvotes\"},inplace=True)\n",
    "test_eval.to_csv(\"test_evaluation.csv\",index=False)"
   ]
  },
  {
   "cell_type": "markdown",
   "metadata": {},
   "source": [
    "### Test Evaluation Score: 890.041"
   ]
  },
  {
   "cell_type": "markdown",
   "metadata": {},
   "source": [
    "#### LassoLars Regression Hyper Tuning"
   ]
  },
  {
   "cell_type": "code",
   "execution_count": 47,
   "metadata": {},
   "outputs": [
    {
     "name": "stdout",
     "output_type": "stream",
     "text": [
      "Best neg_mean_squared_error : -1193805.608578 using {'max_iter': 400, 'alpha': 0.02}\n"
     ]
    }
   ],
   "source": [
    "from sklearn.linear_model import Ridge,Lasso\n",
    "params_ridge={\"alpha\":(0,0.01,0.015,0.02,0.025,0.03,0.05,0.06,0.065,0.07,0.08,0.09),\"max_iter\":(100,150,200,250,300,400,450,500,600,800)}\n",
    "ridge_model=linear_model.LassoLars()\n",
    "\n",
    "rgrid=RandomizedSearchCV(ridge_model,param_distributions=params_ridge,scoring=\"neg_mean_squared_error\",n_jobs=-1,cv=5)\n",
    "\n",
    "rgrid.fit(x_poly,y_train)\n",
    "\n",
    "print(\"Best neg_mean_squared_error : %f using %s\" % (rgrid.best_score_,rgrid.best_params_))\n"
   ]
  },
  {
   "cell_type": "code",
   "execution_count": 55,
   "metadata": {},
   "outputs": [
    {
     "name": "stdout",
     "output_type": "stream",
     "text": [
      "0.9168188033959582\n"
     ]
    }
   ],
   "source": [
    "lin_reg_1 = linear_model.LassoLars(alpha=0.02,max_iter=400)\n",
    "lin_reg_1.fit(x_poly, y_train)\n",
    "pred=poly_reg.fit_transform(x_test) \n",
    "pred_val = lin_reg_1.predict(pred)\n",
    "\n",
    "print(r2_score(y_test, pred_val))\n"
   ]
  },
  {
   "cell_type": "code",
   "execution_count": 57,
   "metadata": {},
   "outputs": [],
   "source": [
    "test = std_scaler.fit_transform(new_test)\n",
    "\n",
    "Test_evalu=pd.DataFrame(lin_reg_1.predict(poly_reg.fit_transform(test)))\n",
    "test_eval=pd.concat([test_raw[\"ID\"],Test_evalu],axis=1)\n",
    "test_eval.rename(columns={0:\"Upvotes\"},inplace=True)\n",
    "test_eval.to_csv(\"test_evaluation.csv\",index=False)"
   ]
  },
  {
   "cell_type": "markdown",
   "metadata": {},
   "source": [
    "### Test Evaluation score: 897.88"
   ]
  },
  {
   "cell_type": "code",
   "execution_count": null,
   "metadata": {},
   "outputs": [],
   "source": []
  }
 ],
 "metadata": {
  "kernelspec": {
   "display_name": "Python 3",
   "language": "python",
   "name": "python3"
  },
  "language_info": {
   "codemirror_mode": {
    "name": "ipython",
    "version": 3
   },
   "file_extension": ".py",
   "mimetype": "text/x-python",
   "name": "python",
   "nbconvert_exporter": "python",
   "pygments_lexer": "ipython3",
   "version": "3.7.3"
  }
 },
 "nbformat": 4,
 "nbformat_minor": 2
}
